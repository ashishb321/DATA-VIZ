{
  "nbformat": 4,
  "nbformat_minor": 0,
  "metadata": {
    "colab": {
      "name": "NUMPY CRASH COURSE.ipynb",
      "provenance": [],
      "authorship_tag": "ABX9TyNMAq9SCIxd5wA6CwCQu2yN",
      "include_colab_link": true
    },
    "kernelspec": {
      "name": "python3",
      "display_name": "Python 3"
    },
    "language_info": {
      "name": "python"
    }
  },
  "cells": [
    {
      "cell_type": "markdown",
      "metadata": {
        "id": "view-in-github",
        "colab_type": "text"
      },
      "source": [
        "<a href=\"https://colab.research.google.com/github/ashishb321/DATA-VIZ/blob/main/NUMPY_CRASH_COURSE.ipynb\" target=\"_parent\"><img src=\"https://colab.research.google.com/assets/colab-badge.svg\" alt=\"Open In Colab\"/></a>"
      ]
    },
    {
      "cell_type": "code",
      "metadata": {
        "colab": {
          "base_uri": "https://localhost:8080/"
        },
        "id": "9ho81IuqKBg2",
        "outputId": "3975aebf-890c-4af8-a6ff-68aa086d1a7f"
      },
      "source": [
        "!pip install numpy"
      ],
      "execution_count": 73,
      "outputs": [
        {
          "output_type": "stream",
          "text": [
            "Requirement already satisfied: numpy in /usr/local/lib/python3.7/dist-packages (1.19.5)\n"
          ],
          "name": "stdout"
        }
      ]
    },
    {
      "cell_type": "code",
      "metadata": {
        "id": "9v6EKKi-KHN4"
      },
      "source": [
        "import numpy as np"
      ],
      "execution_count": 74,
      "outputs": []
    },
    {
      "cell_type": "markdown",
      "metadata": {
        "id": "5ZrwA3kxNC3V"
      },
      "source": [
        "CREATION OF ARRAYS"
      ]
    },
    {
      "cell_type": "code",
      "metadata": {
        "id": "KtABH1uVKJHI"
      },
      "source": [
        "data = np.random.rand(2,3,4)\n",
        "zeroes = np.zeros((2,2,2))\n",
        "full = np.full((2,2,2),7)#similar to zeros and ones implementation minor change is that 7 replaces all the zeros\n",
        "ones = np.ones((2,2,2))\n"
      ],
      "execution_count": 75,
      "outputs": []
    },
    {
      "cell_type": "code",
      "metadata": {
        "colab": {
          "base_uri": "https://localhost:8080/"
        },
        "id": "gDbSmlwXLFBO",
        "outputId": "23aaf969-e06f-4523-8b77-d8c531e681de"
      },
      "source": [
        "data"
      ],
      "execution_count": 76,
      "outputs": [
        {
          "output_type": "execute_result",
          "data": {
            "text/plain": [
              "array([[[0.74787687, 0.23371111, 0.68597185, 0.9144645 ],\n",
              "        [0.88541515, 0.72853479, 0.28201572, 0.45144807],\n",
              "        [0.11069352, 0.67192323, 0.86386788, 0.44515546]],\n",
              "\n",
              "       [[0.18598314, 0.93517955, 0.38444154, 0.03532012],\n",
              "        [0.62706473, 0.49197108, 0.59434518, 0.67246978],\n",
              "        [0.96372605, 0.40979046, 0.79372034, 0.73144647]]])"
            ]
          },
          "metadata": {
            "tags": []
          },
          "execution_count": 76
        }
      ]
    },
    {
      "cell_type": "code",
      "metadata": {
        "colab": {
          "base_uri": "https://localhost:8080/"
        },
        "id": "bzXE59lVLleN",
        "outputId": "59bde36c-9684-4dda-fe1f-8bdd78d2856d"
      },
      "source": [
        "zeroes"
      ],
      "execution_count": 77,
      "outputs": [
        {
          "output_type": "execute_result",
          "data": {
            "text/plain": [
              "array([[[0., 0.],\n",
              "        [0., 0.]],\n",
              "\n",
              "       [[0., 0.],\n",
              "        [0., 0.]]])"
            ]
          },
          "metadata": {
            "tags": []
          },
          "execution_count": 77
        }
      ]
    },
    {
      "cell_type": "code",
      "metadata": {
        "colab": {
          "base_uri": "https://localhost:8080/"
        },
        "id": "7upJHZ5VLulk",
        "outputId": "8a90e7d2-052e-4eff-d64a-a4f2cde56bf2"
      },
      "source": [
        "full"
      ],
      "execution_count": 78,
      "outputs": [
        {
          "output_type": "execute_result",
          "data": {
            "text/plain": [
              "array([[[7, 7],\n",
              "        [7, 7]],\n",
              "\n",
              "       [[7, 7],\n",
              "        [7, 7]]])"
            ]
          },
          "metadata": {
            "tags": []
          },
          "execution_count": 78
        }
      ]
    },
    {
      "cell_type": "code",
      "metadata": {
        "colab": {
          "base_uri": "https://localhost:8080/"
        },
        "id": "Z4jeXtINLJBd",
        "outputId": "4a676ed6-4cc8-4643-f81d-a577f7969e5e"
      },
      "source": [
        "ones"
      ],
      "execution_count": 79,
      "outputs": [
        {
          "output_type": "execute_result",
          "data": {
            "text/plain": [
              "array([[[1., 1.],\n",
              "        [1., 1.]],\n",
              "\n",
              "       [[1., 1.],\n",
              "        [1., 1.]]])"
            ]
          },
          "metadata": {
            "tags": []
          },
          "execution_count": 79
        }
      ]
    },
    {
      "cell_type": "code",
      "metadata": {
        "id": "2d5BALB0Nk_v"
      },
      "source": [
        "arr = np.array([[1,2,3,4],[1,2,3,4]])\n"
      ],
      "execution_count": 80,
      "outputs": []
    },
    {
      "cell_type": "code",
      "metadata": {
        "colab": {
          "base_uri": "https://localhost:8080/"
        },
        "id": "J1wLOPfLONeI",
        "outputId": "1caf8942-5dd0-4902-c7d9-04c8788a13fb"
      },
      "source": [
        "arr"
      ],
      "execution_count": 81,
      "outputs": [
        {
          "output_type": "execute_result",
          "data": {
            "text/plain": [
              "array([[1, 2, 3, 4],\n",
              "       [1, 2, 3, 4]])"
            ]
          },
          "metadata": {
            "tags": []
          },
          "execution_count": 81
        }
      ]
    },
    {
      "cell_type": "code",
      "metadata": {
        "colab": {
          "base_uri": "https://localhost:8080/"
        },
        "id": "oKf_jbW-OJOk",
        "outputId": "9898b410-ed92-4204-aa64-73f9772a5ba8"
      },
      "source": [
        "type(arr)"
      ],
      "execution_count": 82,
      "outputs": [
        {
          "output_type": "execute_result",
          "data": {
            "text/plain": [
              "numpy.ndarray"
            ]
          },
          "metadata": {
            "tags": []
          },
          "execution_count": 82
        }
      ]
    },
    {
      "cell_type": "markdown",
      "metadata": {
        "id": "vVk0TU-2NG2t"
      },
      "source": [
        "READING OF ARRAYS "
      ]
    },
    {
      "cell_type": "code",
      "metadata": {
        "id": "6XbIKlFHNBQU"
      },
      "source": [
        "#Attributes\n",
        "shape = data.shape\n",
        "size = data.size\n",
        "types = data.dtype\n",
        "\n"
      ],
      "execution_count": 83,
      "outputs": []
    },
    {
      "cell_type": "code",
      "metadata": {
        "colab": {
          "base_uri": "https://localhost:8080/"
        },
        "id": "seDHsqO0Pd0U",
        "outputId": "daccae47-b3aa-4f10-9869-3581564d93ac"
      },
      "source": [
        "types "
      ],
      "execution_count": 84,
      "outputs": [
        {
          "output_type": "execute_result",
          "data": {
            "text/plain": [
              "dtype('float64')"
            ]
          },
          "metadata": {
            "tags": []
          },
          "execution_count": 84
        }
      ]
    },
    {
      "cell_type": "code",
      "metadata": {
        "id": "iFyH41iPPgD0"
      },
      "source": [
        "#slicing \n",
        "arr = data[0]\n",
        "slicer = data[0][0:2]\n",
        "reverse = data[-1]\n"
      ],
      "execution_count": 85,
      "outputs": []
    },
    {
      "cell_type": "code",
      "metadata": {
        "colab": {
          "base_uri": "https://localhost:8080/"
        },
        "id": "SoSW1yKwQAeO",
        "outputId": "c95f27d2-e5b4-4cd3-c462-528d9c73b6d2"
      },
      "source": [
        "arr "
      ],
      "execution_count": 86,
      "outputs": [
        {
          "output_type": "execute_result",
          "data": {
            "text/plain": [
              "array([[0.74787687, 0.23371111, 0.68597185, 0.9144645 ],\n",
              "       [0.88541515, 0.72853479, 0.28201572, 0.45144807],\n",
              "       [0.11069352, 0.67192323, 0.86386788, 0.44515546]])"
            ]
          },
          "metadata": {
            "tags": []
          },
          "execution_count": 86
        }
      ]
    },
    {
      "cell_type": "code",
      "metadata": {
        "colab": {
          "base_uri": "https://localhost:8080/"
        },
        "id": "o5cImD4aQyXI",
        "outputId": "5858c179-8228-4be9-d976-748aa8ceac52"
      },
      "source": [
        "slicer"
      ],
      "execution_count": 87,
      "outputs": [
        {
          "output_type": "execute_result",
          "data": {
            "text/plain": [
              "array([[0.74787687, 0.23371111, 0.68597185, 0.9144645 ],\n",
              "       [0.88541515, 0.72853479, 0.28201572, 0.45144807]])"
            ]
          },
          "metadata": {
            "tags": []
          },
          "execution_count": 87
        }
      ]
    },
    {
      "cell_type": "code",
      "metadata": {
        "colab": {
          "base_uri": "https://localhost:8080/"
        },
        "id": "cyNRUgmzQ4Hs",
        "outputId": "95563880-23e8-4caf-d273-9f0898c7258e"
      },
      "source": [
        "reverse"
      ],
      "execution_count": 88,
      "outputs": [
        {
          "output_type": "execute_result",
          "data": {
            "text/plain": [
              "array([[0.18598314, 0.93517955, 0.38444154, 0.03532012],\n",
              "       [0.62706473, 0.49197108, 0.59434518, 0.67246978],\n",
              "       [0.96372605, 0.40979046, 0.79372034, 0.73144647]])"
            ]
          },
          "metadata": {
            "tags": []
          },
          "execution_count": 88
        }
      ]
    },
    {
      "cell_type": "markdown",
      "metadata": {
        "id": "eA7VNC9paKNo"
      },
      "source": [
        "UPDATING THE VALUES "
      ]
    },
    {
      "cell_type": "code",
      "metadata": {
        "id": "6GflKN25aM5A"
      },
      "source": [
        "list1 = np.random.rand(10)\n",
        "list2 = np.random.rand(10)\n"
      ],
      "execution_count": 89,
      "outputs": []
    },
    {
      "cell_type": "code",
      "metadata": {
        "colab": {
          "base_uri": "https://localhost:8080/"
        },
        "id": "O-uQrjE5cc8T",
        "outputId": "7f0125ec-511a-4971-f995-83c35ac0cdbc"
      },
      "source": [
        "list1"
      ],
      "execution_count": 90,
      "outputs": [
        {
          "output_type": "execute_result",
          "data": {
            "text/plain": [
              "array([0.76002008, 0.56181715, 0.6411166 , 0.87622022, 0.26049193,\n",
              "       0.65993068, 0.36950358, 0.68366009, 0.84633077, 0.34017401])"
            ]
          },
          "metadata": {
            "tags": []
          },
          "execution_count": 90
        }
      ]
    },
    {
      "cell_type": "code",
      "metadata": {
        "id": "musDLBaTcfcb",
        "colab": {
          "base_uri": "https://localhost:8080/"
        },
        "outputId": "f54b8c99-4201-4fa8-8e08-23dd5180430e"
      },
      "source": [
        "list2"
      ],
      "execution_count": 91,
      "outputs": [
        {
          "output_type": "execute_result",
          "data": {
            "text/plain": [
              "array([0.67073571, 0.86746161, 0.41627093, 0.2319951 , 0.20151958,\n",
              "       0.57525984, 0.09414071, 0.71066036, 0.91984105, 0.62478035])"
            ]
          },
          "metadata": {
            "tags": []
          },
          "execution_count": 91
        }
      ]
    },
    {
      "cell_type": "code",
      "metadata": {
        "id": "82KfPt65chCr"
      },
      "source": [
        "#Basic Math functions \n",
        "add = np.add(list1,list2)\n",
        "subtract = np.subtract(list1,list2)\n",
        "multiply = np.multiply(list1,list2)\n",
        "divide = np.divide(list1,list2)\n",
        "dot = np.dot(list1,list2)"
      ],
      "execution_count": 92,
      "outputs": []
    },
    {
      "cell_type": "code",
      "metadata": {
        "colab": {
          "base_uri": "https://localhost:8080/"
        },
        "id": "53UWH6O9dkfj",
        "outputId": "6ecb4455-f997-4864-adf1-83b875575ce6"
      },
      "source": [
        "add"
      ],
      "execution_count": 93,
      "outputs": [
        {
          "output_type": "execute_result",
          "data": {
            "text/plain": [
              "array([1.43075579, 1.42927875, 1.05738753, 1.10821533, 0.4620115 ,\n",
              "       1.23519052, 0.46364429, 1.39432046, 1.76617182, 0.96495437])"
            ]
          },
          "metadata": {
            "tags": []
          },
          "execution_count": 93
        }
      ]
    },
    {
      "cell_type": "code",
      "metadata": {
        "colab": {
          "base_uri": "https://localhost:8080/"
        },
        "id": "bPCFUssjdlP6",
        "outputId": "e76b2455-2c05-438e-ebf2-a14ff1f218ef"
      },
      "source": [
        "subtract"
      ],
      "execution_count": 94,
      "outputs": [
        {
          "output_type": "execute_result",
          "data": {
            "text/plain": [
              "array([ 0.08928436, -0.30564446,  0.22484567,  0.64422512,  0.05897235,\n",
              "        0.08467083,  0.27536287, -0.02700027, -0.07351029, -0.28460634])"
            ]
          },
          "metadata": {
            "tags": []
          },
          "execution_count": 94
        }
      ]
    },
    {
      "cell_type": "code",
      "metadata": {
        "colab": {
          "base_uri": "https://localhost:8080/"
        },
        "id": "nf0Qb4zrdnQ6",
        "outputId": "ef1cf5f5-779b-43e5-95de-306a1bb64f6b"
      },
      "source": [
        "multiply"
      ],
      "execution_count": 95,
      "outputs": [
        {
          "output_type": "execute_result",
          "data": {
            "text/plain": [
              "array([0.50977261, 0.4873548 , 0.2668782 , 0.2032788 , 0.05249422,\n",
              "       0.37963162, 0.03478533, 0.48585013, 0.77848978, 0.21253404])"
            ]
          },
          "metadata": {
            "tags": []
          },
          "execution_count": 95
        }
      ]
    },
    {
      "cell_type": "code",
      "metadata": {
        "colab": {
          "base_uri": "https://localhost:8080/"
        },
        "id": "ZW0_CPb6dotO",
        "outputId": "2ff2853b-9e4b-480d-cd97-e8f831658660"
      },
      "source": [
        "divide"
      ],
      "execution_count": 96,
      "outputs": [
        {
          "output_type": "execute_result",
          "data": {
            "text/plain": [
              "array([1.13311408, 0.6476565 , 1.54014262, 3.77689099, 1.29263832,\n",
              "       1.14718711, 3.92501375, 0.96200679, 0.92008371, 0.54446977])"
            ]
          },
          "metadata": {
            "tags": []
          },
          "execution_count": 96
        }
      ]
    },
    {
      "cell_type": "code",
      "metadata": {
        "colab": {
          "base_uri": "https://localhost:8080/"
        },
        "id": "wEdoykuvdvgt",
        "outputId": "de3207b2-4f62-4075-dc43-5121a1c2db44"
      },
      "source": [
        "dot"
      ],
      "execution_count": 97,
      "outputs": [
        {
          "output_type": "execute_result",
          "data": {
            "text/plain": [
              "3.4110695435029372"
            ]
          },
          "metadata": {
            "tags": []
          },
          "execution_count": 97
        }
      ]
    },
    {
      "cell_type": "code",
      "metadata": {
        "id": "5RB3A-n5d4C6"
      },
      "source": [
        "#stat functions \n",
        "sqrt = np.sqrt(25)\n",
        "ab = np.abs(-2)\n",
        "power = np.power(2,7)\n",
        "log = np.log(25)\n",
        "exp = np.exp([])\n",
        "mins = np.min(list1)\n",
        "maxs = np.max(list1)\n"
      ],
      "execution_count": 98,
      "outputs": []
    },
    {
      "cell_type": "code",
      "metadata": {
        "colab": {
          "base_uri": "https://localhost:8080/"
        },
        "id": "-NEjtgdGfL-M",
        "outputId": "c07a06d7-e308-4214-bffa-d1eb3087d37c"
      },
      "source": [
        "maxs"
      ],
      "execution_count": 99,
      "outputs": [
        {
          "output_type": "execute_result",
          "data": {
            "text/plain": [
              "0.8762202212049689"
            ]
          },
          "metadata": {
            "tags": []
          },
          "execution_count": 99
        }
      ]
    },
    {
      "cell_type": "code",
      "metadata": {
        "colab": {
          "base_uri": "https://localhost:8080/"
        },
        "id": "ZnZFEbUD5ObJ",
        "outputId": "f076c6a6-4194-4d85-bea0-dcf73bf1b6bd"
      },
      "source": [
        "data"
      ],
      "execution_count": 100,
      "outputs": [
        {
          "output_type": "execute_result",
          "data": {
            "text/plain": [
              "array([[[0.74787687, 0.23371111, 0.68597185, 0.9144645 ],\n",
              "        [0.88541515, 0.72853479, 0.28201572, 0.45144807],\n",
              "        [0.11069352, 0.67192323, 0.86386788, 0.44515546]],\n",
              "\n",
              "       [[0.18598314, 0.93517955, 0.38444154, 0.03532012],\n",
              "        [0.62706473, 0.49197108, 0.59434518, 0.67246978],\n",
              "        [0.96372605, 0.40979046, 0.79372034, 0.73144647]]])"
            ]
          },
          "metadata": {
            "tags": []
          },
          "execution_count": 100
        }
      ]
    },
    {
      "cell_type": "code",
      "metadata": {
        "colab": {
          "base_uri": "https://localhost:8080/"
        },
        "id": "9zMIPiclfK3N",
        "outputId": "e2953313-2b94-45de-adb0-406142459bfd"
      },
      "source": [
        "mins"
      ],
      "execution_count": 101,
      "outputs": [
        {
          "output_type": "execute_result",
          "data": {
            "text/plain": [
              "0.2604919273409212"
            ]
          },
          "metadata": {
            "tags": []
          },
          "execution_count": 101
        }
      ]
    },
    {
      "cell_type": "code",
      "metadata": {
        "colab": {
          "base_uri": "https://localhost:8080/"
        },
        "id": "2FnoYx0zfJXa",
        "outputId": "ff2c16b6-8a10-4125-98a1-6ac201d6ea96"
      },
      "source": [
        "exp"
      ],
      "execution_count": 102,
      "outputs": [
        {
          "output_type": "execute_result",
          "data": {
            "text/plain": [
              "array([], dtype=float64)"
            ]
          },
          "metadata": {
            "tags": []
          },
          "execution_count": 102
        }
      ]
    },
    {
      "cell_type": "code",
      "metadata": {
        "colab": {
          "base_uri": "https://localhost:8080/"
        },
        "id": "GWbN3w6KfCZF",
        "outputId": "545b2eee-b065-44cb-8e24-c48fd02063d6"
      },
      "source": [
        "log"
      ],
      "execution_count": 103,
      "outputs": [
        {
          "output_type": "execute_result",
          "data": {
            "text/plain": [
              "3.2188758248682006"
            ]
          },
          "metadata": {
            "tags": []
          },
          "execution_count": 103
        }
      ]
    },
    {
      "cell_type": "code",
      "metadata": {
        "colab": {
          "base_uri": "https://localhost:8080/"
        },
        "id": "fdSApESEfAlR",
        "outputId": "df22a0ad-c312-4ea9-c63c-0ed549fbf573"
      },
      "source": [
        "power"
      ],
      "execution_count": 104,
      "outputs": [
        {
          "output_type": "execute_result",
          "data": {
            "text/plain": [
              "128"
            ]
          },
          "metadata": {
            "tags": []
          },
          "execution_count": 104
        }
      ]
    },
    {
      "cell_type": "code",
      "metadata": {
        "colab": {
          "base_uri": "https://localhost:8080/"
        },
        "id": "hsgjnchTe_KG",
        "outputId": "0dd30220-f695-4b5b-d42a-adbf894154c6"
      },
      "source": [
        "ab"
      ],
      "execution_count": 105,
      "outputs": [
        {
          "output_type": "execute_result",
          "data": {
            "text/plain": [
              "2"
            ]
          },
          "metadata": {
            "tags": []
          },
          "execution_count": 105
        }
      ]
    },
    {
      "cell_type": "code",
      "metadata": {
        "colab": {
          "base_uri": "https://localhost:8080/"
        },
        "id": "0GzGWKk1e9na",
        "outputId": "f9868f8d-9467-49f3-a67c-d9f5bd6934bf"
      },
      "source": [
        "sqrt "
      ],
      "execution_count": 106,
      "outputs": [
        {
          "output_type": "execute_result",
          "data": {
            "text/plain": [
              "5.0"
            ]
          },
          "metadata": {
            "tags": []
          },
          "execution_count": 106
        }
      ]
    },
    {
      "cell_type": "code",
      "metadata": {
        "id": "lfW3Vg855FU2"
      },
      "source": [
        "data[0][0][0] = 700"
      ],
      "execution_count": 107,
      "outputs": []
    },
    {
      "cell_type": "code",
      "metadata": {
        "colab": {
          "base_uri": "https://localhost:8080/"
        },
        "id": "ARiPAEoA_SuK",
        "outputId": "e37bd649-6e5a-4cba-b997-3eec91c0940a"
      },
      "source": [
        "data"
      ],
      "execution_count": 108,
      "outputs": [
        {
          "output_type": "execute_result",
          "data": {
            "text/plain": [
              "array([[[7.00000000e+02, 2.33711113e-01, 6.85971846e-01, 9.14464497e-01],\n",
              "        [8.85415148e-01, 7.28534792e-01, 2.82015715e-01, 4.51448073e-01],\n",
              "        [1.10693523e-01, 6.71923230e-01, 8.63867879e-01, 4.45155458e-01]],\n",
              "\n",
              "       [[1.85983144e-01, 9.35179548e-01, 3.84441541e-01, 3.53201197e-02],\n",
              "        [6.27064727e-01, 4.91971084e-01, 5.94345178e-01, 6.72469779e-01],\n",
              "        [9.63726053e-01, 4.09790455e-01, 7.93720341e-01, 7.31446468e-01]]])"
            ]
          },
          "metadata": {
            "tags": []
          },
          "execution_count": 108
        }
      ]
    },
    {
      "cell_type": "code",
      "metadata": {
        "colab": {
          "base_uri": "https://localhost:8080/"
        },
        "id": "veNjUqt4_qpM",
        "outputId": "468ced00-6fbe-417f-856c-c77f2598efaa"
      },
      "source": [
        "data.sort()\n",
        "data"
      ],
      "execution_count": 109,
      "outputs": [
        {
          "output_type": "execute_result",
          "data": {
            "text/plain": [
              "array([[[2.33711113e-01, 6.85971846e-01, 9.14464497e-01, 7.00000000e+02],\n",
              "        [2.82015715e-01, 4.51448073e-01, 7.28534792e-01, 8.85415148e-01],\n",
              "        [1.10693523e-01, 4.45155458e-01, 6.71923230e-01, 8.63867879e-01]],\n",
              "\n",
              "       [[3.53201197e-02, 1.85983144e-01, 3.84441541e-01, 9.35179548e-01],\n",
              "        [4.91971084e-01, 5.94345178e-01, 6.27064727e-01, 6.72469779e-01],\n",
              "        [4.09790455e-01, 7.31446468e-01, 7.93720341e-01, 9.63726053e-01]]])"
            ]
          },
          "metadata": {
            "tags": []
          },
          "execution_count": 109
        }
      ]
    },
    {
      "cell_type": "code",
      "metadata": {
        "colab": {
          "base_uri": "https://localhost:8080/"
        },
        "id": "6qFSt2SV_yzQ",
        "outputId": "6b7da9af-0e11-4bd0-8a87-7d2ce22fce56"
      },
      "source": [
        "print(data.shape)"
      ],
      "execution_count": 110,
      "outputs": [
        {
          "output_type": "stream",
          "text": [
            "(2, 3, 4)\n"
          ],
          "name": "stdout"
        }
      ]
    },
    {
      "cell_type": "code",
      "metadata": {
        "colab": {
          "base_uri": "https://localhost:8080/"
        },
        "id": "bPNx0E0E_2xg",
        "outputId": "3c73492c-720e-407b-8d18-8570f7769545"
      },
      "source": [
        "data = data.reshape((2,2,-1))\n",
        "data.shape"
      ],
      "execution_count": 111,
      "outputs": [
        {
          "output_type": "execute_result",
          "data": {
            "text/plain": [
              "(2, 2, 6)"
            ]
          },
          "metadata": {
            "tags": []
          },
          "execution_count": 111
        }
      ]
    },
    {
      "cell_type": "code",
      "metadata": {
        "colab": {
          "base_uri": "https://localhost:8080/"
        },
        "id": "tKXEVt9aAAR5",
        "outputId": "7226bd3c-ed1b-4876-e710-11ecfe132e82"
      },
      "source": [
        "zeroes = np.zeros(8)\n",
        "print(zeroes)\n",
        "zeroes = np.append(zeroes,[3,4])\n",
        "print(zeroes)\n"
      ],
      "execution_count": 112,
      "outputs": [
        {
          "output_type": "stream",
          "text": [
            "[0. 0. 0. 0. 0. 0. 0. 0.]\n",
            "[0. 0. 0. 0. 0. 0. 0. 0. 3. 4.]\n"
          ],
          "name": "stdout"
        }
      ]
    },
    {
      "cell_type": "code",
      "metadata": {
        "colab": {
          "base_uri": "https://localhost:8080/"
        },
        "id": "jR4JwysyGGM6",
        "outputId": "ff555527-a005-4f7e-e9ed-f672d6e94880"
      },
      "source": [
        "zeroes = np.insert(zeroes,2,1)\n",
        "print(zeroes)"
      ],
      "execution_count": 113,
      "outputs": [
        {
          "output_type": "stream",
          "text": [
            "[0. 0. 1. 0. 0. 0. 0. 0. 0. 3. 4.]\n"
          ],
          "name": "stdout"
        }
      ]
    },
    {
      "cell_type": "markdown",
      "metadata": {
        "id": "8wVs0iU4gUFp"
      },
      "source": [
        "DELETE "
      ]
    },
    {
      "cell_type": "code",
      "metadata": {
        "id": "VBUqeTcygjjY",
        "colab": {
          "base_uri": "https://localhost:8080/"
        },
        "outputId": "0975d788-600b-438b-95d9-d05abe24560d"
      },
      "source": [
        "data"
      ],
      "execution_count": 115,
      "outputs": [
        {
          "output_type": "execute_result",
          "data": {
            "text/plain": [
              "array([[[2.33711113e-01, 6.85971846e-01, 9.14464497e-01, 7.00000000e+02,\n",
              "         2.82015715e-01, 4.51448073e-01],\n",
              "        [7.28534792e-01, 8.85415148e-01, 1.10693523e-01, 4.45155458e-01,\n",
              "         6.71923230e-01, 8.63867879e-01]],\n",
              "\n",
              "       [[3.53201197e-02, 1.85983144e-01, 3.84441541e-01, 9.35179548e-01,\n",
              "         4.91971084e-01, 5.94345178e-01],\n",
              "        [6.27064727e-01, 6.72469779e-01, 4.09790455e-01, 7.31446468e-01,\n",
              "         7.93720341e-01, 9.63726053e-01]]])"
            ]
          },
          "metadata": {
            "tags": []
          },
          "execution_count": 115
        }
      ]
    },
    {
      "cell_type": "code",
      "metadata": {
        "colab": {
          "base_uri": "https://localhost:8080/"
        },
        "id": "_-q6sG7tGdh6",
        "outputId": "1f07831b-d1f4-4a4a-e549-bac44a3b12fa"
      },
      "source": [
        "np.delete(data,0,axis=1)\n"
      ],
      "execution_count": 116,
      "outputs": [
        {
          "output_type": "execute_result",
          "data": {
            "text/plain": [
              "array([[[0.72853479, 0.88541515, 0.11069352, 0.44515546, 0.67192323,\n",
              "         0.86386788]],\n",
              "\n",
              "       [[0.62706473, 0.67246978, 0.40979046, 0.73144647, 0.79372034,\n",
              "         0.96372605]]])"
            ]
          },
          "metadata": {
            "tags": []
          },
          "execution_count": 116
        }
      ]
    },
    {
      "cell_type": "code",
      "metadata": {
        "id": "XmZaGKxfGnPw"
      },
      "source": [
        "np.save(\"new array\",data)\n",
        "test = np.load(\"new array.npy\")\n"
      ],
      "execution_count": 117,
      "outputs": []
    },
    {
      "cell_type": "code",
      "metadata": {
        "id": "sX--iYapG0UQ"
      },
      "source": [
        "test"
      ],
      "execution_count": null,
      "outputs": []
    }
  ]
}